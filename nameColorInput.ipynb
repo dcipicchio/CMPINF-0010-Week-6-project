{
 "cells": [
  {
   "cell_type": "code",
   "execution_count": 12,
   "metadata": {},
   "outputs": [
    {
     "name": "stdin",
     "output_type": "stream",
     "text": [
      "Please enter your name nolan\n"
     ]
    },
    {
     "name": "stdout",
     "output_type": "stream",
     "text": [
      "Hello nolan Welcome to our color selection program\n"
     ]
    },
    {
     "name": "stdin",
     "output_type": "stream",
     "text": [
      "Tell me your favorite color. i hate caleb\n"
     ]
    },
    {
     "name": "stdout",
     "output_type": "stream",
     "text": [
      "i hate caleb ,that is a good color!\n"
     ]
    }
   ],
   "source": [
    "nameInput = input (\"Please enter your name\")\n",
    "\n",
    "print(\"Hello \" + nameInput + \" Welcome to our color selection program\")\n",
    "\n",
    "colorInput = input(\"Tell me your favorite color.\")\n",
    "\n",
    "print (colorInput,\",that is a good color!\")"
   ]
  },
  {
   "cell_type": "code",
   "execution_count": null,
   "metadata": {},
   "outputs": [],
   "source": []
  }
 ],
 "metadata": {
  "kernelspec": {
   "display_name": "Python 3.7",
   "language": "python",
   "name": "python3"
  },
  "language_info": {
   "codemirror_mode": {
    "name": "ipython",
    "version": 3
   },
   "file_extension": ".py",
   "mimetype": "text/x-python",
   "name": "python",
   "nbconvert_exporter": "python",
   "pygments_lexer": "ipython3",
   "version": "3.7.0"
  }
 },
 "nbformat": 4,
 "nbformat_minor": 2
}
